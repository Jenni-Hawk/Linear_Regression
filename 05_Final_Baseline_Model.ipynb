{
 "cells": [
  {
   "cell_type": "markdown",
   "id": "32323c51",
   "metadata": {},
   "source": [
    "#### Final Baseline Model\n",
    "- Utilizing data that didn't have log transform because it outperformed log transform\n",
    "- Readin data with gross + budget as same distribution\n",
    "- Cross Validation\n",
    "- Predictions Based on Test Model \n",
    "- Scores on Test Model (R2, MAE, MAPE)\n",
    "- Tested Lasso\n",
    "- Coefficient Analyis\n",
    "- Interpretation Notes"
   ]
  },
  {
   "cell_type": "code",
   "execution_count": 1,
   "id": "714e7933",
   "metadata": {},
   "outputs": [],
   "source": [
    "import numpy as np\n",
    "from sklearn.linear_model import LinearRegression\n",
    "from sklearn.linear_model import LassoCV, RidgeCV\n",
    "from sklearn.model_selection import train_test_split\n",
    "from sklearn.model_selection import KFold\n",
    "from sklearn.model_selection import cross_val_score\n",
    "\n",
    "from sklearn.metrics import mean_absolute_error as mae\n",
    "from sklearn.metrics import mean_squared_error\n",
    "from sklearn.metrics import mean_absolute_percentage_error\n",
    "from sklearn.metrics import r2_score\n",
    "\n",
    "from sklearn.preprocessing import StandardScaler\n",
    "\n",
    "import seaborn as sns\n",
    "import pandas as pd\n",
    "import matplotlib.pyplot as plt\n",
    "\n",
    "%matplotlib inline"
   ]
  },
  {
   "cell_type": "code",
   "execution_count": 2,
   "id": "7bd10b82",
   "metadata": {},
   "outputs": [
    {
     "data": {
      "text/html": [
       "<div>\n",
       "<style scoped>\n",
       "    .dataframe tbody tr th:only-of-type {\n",
       "        vertical-align: middle;\n",
       "    }\n",
       "\n",
       "    .dataframe tbody tr th {\n",
       "        vertical-align: top;\n",
       "    }\n",
       "\n",
       "    .dataframe thead th {\n",
       "        text-align: right;\n",
       "    }\n",
       "</style>\n",
       "<table border=\"1\" class=\"dataframe\">\n",
       "  <thead>\n",
       "    <tr style=\"text-align: right;\">\n",
       "      <th></th>\n",
       "      <th>Title</th>\n",
       "      <th>Duration</th>\n",
       "      <th>Genre</th>\n",
       "      <th>Rating</th>\n",
       "      <th>Gross</th>\n",
       "      <th>Director</th>\n",
       "      <th>Lead</th>\n",
       "      <th>Budget</th>\n",
       "      <th>Year</th>\n",
       "      <th>Budget_Adjust</th>\n",
       "      <th>...</th>\n",
       "      <th>Mystery</th>\n",
       "      <th>Comedy</th>\n",
       "      <th>History</th>\n",
       "      <th>Biography</th>\n",
       "      <th>Fantasy</th>\n",
       "      <th>Romance</th>\n",
       "      <th>Action_Adv</th>\n",
       "      <th>Adv_Scifi</th>\n",
       "      <th>R</th>\n",
       "      <th>PG-13</th>\n",
       "    </tr>\n",
       "  </thead>\n",
       "  <tbody>\n",
       "    <tr>\n",
       "      <th>0</th>\n",
       "      <td>The Dark Knight</td>\n",
       "      <td>152</td>\n",
       "      <td>Action, Crime, Drama</td>\n",
       "      <td>PG-13</td>\n",
       "      <td>534860000.0</td>\n",
       "      <td>Christopher Nolan</td>\n",
       "      <td>Christian Bale</td>\n",
       "      <td>185000000.0</td>\n",
       "      <td>2008</td>\n",
       "      <td>232832101.7</td>\n",
       "      <td>...</td>\n",
       "      <td>0</td>\n",
       "      <td>0</td>\n",
       "      <td>0</td>\n",
       "      <td>0</td>\n",
       "      <td>0</td>\n",
       "      <td>0</td>\n",
       "      <td>1</td>\n",
       "      <td>0</td>\n",
       "      <td>0</td>\n",
       "      <td>1</td>\n",
       "    </tr>\n",
       "    <tr>\n",
       "      <th>1</th>\n",
       "      <td>The Hunger Games: Catching Fire</td>\n",
       "      <td>146</td>\n",
       "      <td>Action, Adventure, Drama</td>\n",
       "      <td>PG-13</td>\n",
       "      <td>424670000.0</td>\n",
       "      <td>Francis Lawrence</td>\n",
       "      <td>Jennifer Lawrence</td>\n",
       "      <td>130000000.0</td>\n",
       "      <td>2013</td>\n",
       "      <td>151212884.8</td>\n",
       "      <td>...</td>\n",
       "      <td>0</td>\n",
       "      <td>0</td>\n",
       "      <td>0</td>\n",
       "      <td>0</td>\n",
       "      <td>0</td>\n",
       "      <td>0</td>\n",
       "      <td>1</td>\n",
       "      <td>1</td>\n",
       "      <td>0</td>\n",
       "      <td>1</td>\n",
       "    </tr>\n",
       "  </tbody>\n",
       "</table>\n",
       "<p>2 rows × 27 columns</p>\n",
       "</div>"
      ],
      "text/plain": [
       "                             Title  Duration                     Genre Rating  \\\n",
       "0                  The Dark Knight       152      Action, Crime, Drama  PG-13   \n",
       "1  The Hunger Games: Catching Fire       146  Action, Adventure, Drama  PG-13   \n",
       "\n",
       "         Gross           Director               Lead       Budget  Year  \\\n",
       "0  534860000.0  Christopher Nolan     Christian Bale  185000000.0  2008   \n",
       "1  424670000.0   Francis Lawrence  Jennifer Lawrence  130000000.0  2013   \n",
       "\n",
       "   Budget_Adjust  ...  Mystery  Comedy  History  Biography  Fantasy  Romance  \\\n",
       "0    232832101.7  ...        0       0        0          0        0        0   \n",
       "1    151212884.8  ...        0       0        0          0        0        0   \n",
       "\n",
       "   Action_Adv  Adv_Scifi  R  PG-13  \n",
       "0           1          0  0      1  \n",
       "1           1          1  0      1  \n",
       "\n",
       "[2 rows x 27 columns]"
      ]
     },
     "execution_count": 2,
     "metadata": {},
     "output_type": "execute_result"
    }
   ],
   "source": [
    "# strd_base = pd.read_csv('/Users/jennihawk/Desktop/Thriller Project/Movie_Linear_Regression/thriller_csv_files/train_test_validate_csv/no_trans_base.csv')\n",
    "# strd_base.head(2)\n",
    "strd_base = pd.read_csv('/Users/jennihawk/Desktop/Thriller Project/Movie_Linear_Regression/thriller_csv_files/train_test_validate_csv/features_tst2.csv')\n",
    "strd_base.head(2)"
   ]
  },
  {
   "cell_type": "markdown",
   "id": "55d6c492",
   "metadata": {},
   "source": [
    "### Cross Validation"
   ]
  },
  {
   "cell_type": "code",
   "execution_count": 3,
   "id": "8fc6df85",
   "metadata": {},
   "outputs": [],
   "source": [
    "features_in = ['Budget_Adjust', 'Action_Adv', 'Adv_Scifi', 'PG-13', 'Duration']\n",
    "\n",
    "Y = strd_base['Gross_Adjust']\n",
    "X = strd_base[features_in]\n",
    "\n",
    "X_train, X_test, y_train, y_test = train_test_split(X, Y, \n",
    "                                       test_size=.2,     \n",
    "                                       random_state=42)\n",
    "# print(X_train.shape)\n",
    "# print(X_test.shape)\n",
    "# print(y_train.shape)\n",
    "# print(y_test.shape)\n",
    "\n",
    "model = LinearRegression()\n",
    "\n",
    "kf = KFold(n_splits=5, # number of folds\n",
    "     shuffle=True, # randomizes order of rows before split\n",
    "     random_state = 42) # using same number in future code/ rerunning allows us to replicate the split \n"
   ]
  },
  {
   "cell_type": "markdown",
   "id": "72b73b74",
   "metadata": {},
   "source": [
    "### Compare Metrics on train vs test\n",
    "- Training R^2\n",
    "- Test R^2"
   ]
  },
  {
   "cell_type": "markdown",
   "id": "d3987ba3",
   "metadata": {},
   "source": [
    "#### Model.fit notes\n",
    "- Fitting the model just means training it based on a specific set of training data.\n",
    "- The LinearRegression() object has a method .fit() which takes an X and y dataset and adjusts the parameters of a linear regression equation to fit the specified data.\n",
    "- After doing this, the object will store those parameters to itself.\n",
    "- Saving this to a variable allows you to store the specific model fitted to those parameters for whatever later use you may have.\n",
    "- Not storing it is more memory efficient if you just need to quickly fit and compare multiple models for instance but don't need to re-use the specific model object beyond that."
   ]
  },
  {
   "cell_type": "markdown",
   "id": "a23b51c3",
   "metadata": {},
   "source": [
    "### Fit model on the training set"
   ]
  },
  {
   "cell_type": "code",
   "execution_count": 4,
   "id": "b015e6ed",
   "metadata": {},
   "outputs": [
    {
     "data": {
      "text/plain": [
       "LinearRegression()"
      ]
     },
     "execution_count": 4,
     "metadata": {},
     "output_type": "execute_result"
    }
   ],
   "source": [
    "#model = LinearRegression()\n",
    "model.fit(X_train,y_train)"
   ]
  },
  {
   "cell_type": "markdown",
   "id": "6b1c01c2",
   "metadata": {},
   "source": [
    "#### Train / Test Scores R2"
   ]
  },
  {
   "cell_type": "markdown",
   "id": "538fbf39",
   "metadata": {},
   "source": [
    "#### R^2 Scores Train + Test\n",
    "- Is model overfitting? \n",
    "<br>Train = Test (low) -- underfit\n",
    "<br>Train = Test (high) -- good fit\n",
    "<br>Train > Test -- overfit\n",
    "<br>Train < Test -- outliers"
   ]
  },
  {
   "cell_type": "code",
   "execution_count": 5,
   "id": "e8eeeea8",
   "metadata": {},
   "outputs": [
    {
     "name": "stdout",
     "output_type": "stream",
     "text": [
      "0.2132766379935691\n",
      "0.1782525205270047\n"
     ]
    }
   ],
   "source": [
    "#X_train, X_test, y_train, y_test\n",
    "\n",
    "r_squared_train = model.score(X_train, y_train)\n",
    "r_squared_test = model.score(X_test, y_test)\n",
    "\n",
    "print(r_squared_train)\n",
    "print(r_squared_test)"
   ]
  },
  {
   "cell_type": "markdown",
   "id": "13e00182",
   "metadata": {},
   "source": [
    "#### How are predictions for Train vs Test?\n",
    "- https://www.sharpsightlabs.com/blog/sklearn-predict/\n",
    "- Difficult to visualize categorical features - stacked on each other\n",
    "- Majority near the line"
   ]
  },
  {
   "cell_type": "code",
   "execution_count": 6,
   "id": "c0cf9d30",
   "metadata": {},
   "outputs": [
    {
     "data": {
      "text/plain": [
       "[<matplotlib.lines.Line2D at 0x1059da5b0>]"
      ]
     },
     "execution_count": 6,
     "metadata": {},
     "output_type": "execute_result"
    },
    {
     "data": {
      "image/png": "[encoded data removed]",
      "text/plain": [
       "<Figure size 432x288 with 1 Axes>"
      ]
     },
     "metadata": {
      "needs_background": "light"
     },
     "output_type": "display_data"
    }
   ],
   "source": [
    "#prediction on Train Data\n",
    "\n",
    "y_train_pred = model.predict(X_train)\n",
    "\n",
    "plt.scatter(y_train, y_train_pred, alpha=0.2)\n",
    "plt.plot([0, 400], [0, 400])"
   ]
  },
  {
   "cell_type": "code",
   "execution_count": 7,
   "id": "b60d90c0",
   "metadata": {},
   "outputs": [
    {
     "data": {
      "text/plain": [
       "[<matplotlib.lines.Line2D at 0x11db8e700>]"
      ]
     },
     "execution_count": 7,
     "metadata": {},
     "output_type": "execute_result"
    },
    {
     "data": {
      "image/png": "[encoded data removed]",
      "text/plain": [
       "<Figure size 432x288 with 1 Axes>"
      ]
     },
     "metadata": {
      "needs_background": "light"
     },
     "output_type": "display_data"
    }
   ],
   "source": [
    "#prediction on Test Data\n",
    "y_test_pred = model.predict(X_test)\n",
    "\n",
    "plt.scatter(y_test, y_test_pred)\n",
    "plt.plot([0, 400], [0, 400])"
   ]
  },
  {
   "cell_type": "code",
   "execution_count": 8,
   "id": "b47aa3d9",
   "metadata": {},
   "outputs": [
    {
     "data": {
      "text/plain": [
       "Text(0.5, 1.0, 'Residuals vs. Predictions')"
      ]
     },
     "execution_count": 8,
     "metadata": {},
     "output_type": "execute_result"
    },
    {
     "data": {
      "image/png": "[encoded data removed]",
      "text/plain": [
       "<Figure size 432x288 with 1 Axes>"
      ]
     },
     "metadata": {
      "needs_background": "light"
     },
     "output_type": "display_data"
    }
   ],
   "source": [
    "# Plot Residuals vs. predicted\n",
    "\n",
    "lin_reg_residuals = y_train - y_train_pred\n",
    "\n",
    "plt.scatter(y_train_pred, lin_reg_residuals)\n",
    "plt.plot([0,400], [0, 0])\n",
    "plt.title(\"Residuals vs. Predictions\")"
   ]
  },
  {
   "cell_type": "markdown",
   "id": "9368e5c7",
   "metadata": {},
   "source": [
    "### Lasso Regression"
   ]
  },
  {
   "cell_type": "markdown",
   "id": "dedb56fa",
   "metadata": {},
   "source": [
    "#### Standard Scaler\n",
    "- Required for regularization / Doesn't change model performance of a non-scaled model."
   ]
  },
  {
   "cell_type": "code",
   "execution_count": 9,
   "id": "6deabc40",
   "metadata": {},
   "outputs": [],
   "source": [
    "# Setup of variables in Cross Validation code funnel into this\n",
    "# .fit finds mean and standard deviation of variable in the training set\n",
    "\n",
    "scaler = StandardScaler().fit(X_train)\n",
    "\n",
    "# applies scaler to train set\n",
    "X_train_scaled = scaler.transform(X_train)\n",
    "#print(X_train_scaled)\n",
    "\n",
    "# .fit finds mean and standard deviation of variable in test set\n",
    "scaler = StandardScaler().fit(X_test)\n",
    "\n",
    "# applies scaler to test set\n",
    "X_test_scaled = scaler.transform(X_test)\n",
    "#print(X_test_scaled)"
   ]
  },
  {
   "cell_type": "markdown",
   "id": "3642893e",
   "metadata": {},
   "source": [
    "#### Fit and Score Lasso model on Train "
   ]
  },
  {
   "cell_type": "code",
   "execution_count": 10,
   "id": "ce8b61be",
   "metadata": {},
   "outputs": [
    {
     "data": {
      "text/plain": [
       "0.21257036782605399"
      ]
     },
     "execution_count": 10,
     "metadata": {},
     "output_type": "execute_result"
    }
   ],
   "source": [
    "# Fit Lasso and Score on Train Data\n",
    "# default alphas = 100\n",
    "lasso = LassoCV()\n",
    "lasso.fit(X_train_scaled,y_train)\n",
    "lasso.score(X_train_scaled,y_train)"
   ]
  },
  {
   "cell_type": "markdown",
   "id": "9005d9e4",
   "metadata": {},
   "source": [
    "#### Lasso Score on Test Data"
   ]
  },
  {
   "cell_type": "code",
   "execution_count": 11,
   "id": "3eb6c54a",
   "metadata": {},
   "outputs": [
    {
     "data": {
      "text/plain": [
       "0.17944309039232276"
      ]
     },
     "execution_count": 11,
     "metadata": {},
     "output_type": "execute_result"
    }
   ],
   "source": [
    "# Score lasso on Test\n",
    "lasso.score(X_test_scaled, y_test)"
   ]
  },
  {
   "cell_type": "markdown",
   "id": "cd36069f",
   "metadata": {},
   "source": [
    "#### Ridge Regression "
   ]
  },
  {
   "cell_type": "code",
   "execution_count": 12,
   "id": "2d237fed",
   "metadata": {},
   "outputs": [],
   "source": [
    "# lr_model_ridge = Ridge(alpha = 2) # alpha is regularization strength\n",
    "# lr_model_ridge.fit(X_train,y_train)"
   ]
  },
  {
   "cell_type": "markdown",
   "id": "7b76d189",
   "metadata": {},
   "source": [
    "### Coefficient Analysis Linear Regression Model\n",
    "- Model must be fitted for it to work\n",
    "- The coef_ contain the coefficients for the prediction of each of the targets. It is also the same as if you trained a model to predict each of the targets separately."
   ]
  },
  {
   "cell_type": "code",
   "execution_count": 13,
   "id": "77359aa8",
   "metadata": {},
   "outputs": [],
   "source": [
    "#model.coef_"
   ]
  },
  {
   "cell_type": "markdown",
   "id": "c20fc257",
   "metadata": {},
   "source": [
    "#### Coefficients on Test Set"
   ]
  },
  {
   "cell_type": "code",
   "execution_count": 14,
   "id": "e73722a5",
   "metadata": {},
   "outputs": [
    {
     "data": {
      "text/html": [
       "<div>\n",
       "<style scoped>\n",
       "    .dataframe tbody tr th:only-of-type {\n",
       "        vertical-align: middle;\n",
       "    }\n",
       "\n",
       "    .dataframe tbody tr th {\n",
       "        vertical-align: top;\n",
       "    }\n",
       "\n",
       "    .dataframe thead th {\n",
       "        text-align: right;\n",
       "    }\n",
       "</style>\n",
       "<table border=\"1\" class=\"dataframe\">\n",
       "  <thead>\n",
       "    <tr style=\"text-align: right;\">\n",
       "      <th></th>\n",
       "      <th>Coefficient</th>\n",
       "    </tr>\n",
       "  </thead>\n",
       "  <tbody>\n",
       "    <tr>\n",
       "      <th>Budget_Adjust</th>\n",
       "      <td>5.091847e-01</td>\n",
       "    </tr>\n",
       "    <tr>\n",
       "      <th>Action_Adv</th>\n",
       "      <td>8.177097e+06</td>\n",
       "    </tr>\n",
       "    <tr>\n",
       "      <th>Adv_Scifi</th>\n",
       "      <td>2.761603e+06</td>\n",
       "    </tr>\n",
       "    <tr>\n",
       "      <th>PG-13</th>\n",
       "      <td>1.020637e+07</td>\n",
       "    </tr>\n",
       "    <tr>\n",
       "      <th>Duration</th>\n",
       "      <td>9.345524e+05</td>\n",
       "    </tr>\n",
       "  </tbody>\n",
       "</table>\n",
       "</div>"
      ],
      "text/plain": [
       "                Coefficient\n",
       "Budget_Adjust  5.091847e-01\n",
       "Action_Adv     8.177097e+06\n",
       "Adv_Scifi      2.761603e+06\n",
       "PG-13          1.020637e+07\n",
       "Duration       9.345524e+05"
      ]
     },
     "execution_count": 14,
     "metadata": {},
     "output_type": "execute_result"
    }
   ],
   "source": [
    "test_fit = model.fit(X_test,y_test)\n",
    "coefficients_tst = pd.DataFrame(test_fit.coef_,X.columns, columns=['Coefficient'])\n",
    "coefficients_tst"
   ]
  },
  {
   "cell_type": "markdown",
   "id": "cc97903f",
   "metadata": {},
   "source": [
    "### Get Predictions on Linear Regression train + test data"
   ]
  },
  {
   "cell_type": "code",
   "execution_count": 15,
   "id": "219c2557",
   "metadata": {},
   "outputs": [],
   "source": [
    "predictions = model.predict(X_test)\n",
    "#predictions\n"
   ]
  },
  {
   "cell_type": "code",
   "execution_count": 16,
   "id": "368406a9",
   "metadata": {},
   "outputs": [
    {
     "name": "stderr",
     "output_type": "stream",
     "text": [
      "/opt/anaconda3/lib/python3.9/site-packages/seaborn/_decorators.py:36: FutureWarning: Pass the following variables as keyword args: x, y. From version 0.12, the only valid positional argument will be `data`, and passing other arguments without an explicit keyword will result in an error or misinterpretation.\n",
      "  warnings.warn(\n"
     ]
    },
    {
     "data": {
      "text/plain": [
       "Text(0, 0.5, \"['Budget_Adjust', 'Action_Adv', 'Adv_Scifi', 'PG-13', 'Duration']\")"
      ]
     },
     "execution_count": 16,
     "metadata": {},
     "output_type": "execute_result"
    },
    {
     "data": {
      "image/png": "[encoded data removed]",
      "text/plain": [
       "<Figure size 432x288 with 1 Axes>"
      ]
     },
     "metadata": {
      "needs_background": "light"
     },
     "output_type": "display_data"
    }
   ],
   "source": [
    "#visually plot \n",
    "p = sns.regplot(y_test,predictions,scatter_kws={\"color\": \"blue\"}, line_kws={\"color\": \"red\"}).set(title='Predicting US Gross')\n",
    "\n",
    "plt.xlabel(\"US Box Office\")\n",
    "plt.ylabel(f'{features_in}')"
   ]
  },
  {
   "cell_type": "code",
   "execution_count": 17,
   "id": "0744fbf8",
   "metadata": {},
   "outputs": [
    {
     "data": {
      "text/plain": [
       "Index(['Actual', 'Predicted', 'Title', 'Duration', 'Genre', 'Rating', 'Gross',\n",
       "       'Director', 'Lead', 'Budget', 'Year', 'Budget_Adjust', 'Gross_Adjust',\n",
       "       'Action', 'Adventure', 'Sci-Fi', 'Crime', 'Drama', 'Horror', 'Mystery',\n",
       "       'Comedy', 'History', 'Biography', 'Fantasy', 'Romance', 'Action_Adv',\n",
       "       'Adv_Scifi', 'R', 'PG-13'],\n",
       "      dtype='object')"
      ]
     },
     "execution_count": 17,
     "metadata": {},
     "output_type": "execute_result"
    }
   ],
   "source": [
    "#manually test accuracy\n",
    "predictions = model.predict(X_test)\n",
    "df_results = pd.DataFrame({'Actual': y_test, 'Predicted': predictions})\n",
    "\n",
    "df_comparison = pd.merge(df_results, strd_base, how=\"inner\", left_on=\"Actual\", right_on='Gross_Adjust')\n",
    "df_comparison.columns"
   ]
  },
  {
   "cell_type": "code",
   "execution_count": 18,
   "id": "8500e13b",
   "metadata": {},
   "outputs": [
    {
     "data": {
      "text/plain": [
       "Index(['Title', 'Duration', 'Genre', 'Rating', 'Gross', 'Director', 'Lead',\n",
       "       'Budget', 'Year', 'Budget_Adjust', 'Gross_Adjust', 'Action',\n",
       "       'Adventure', 'Sci-Fi', 'Crime', 'Drama', 'Horror', 'Mystery', 'Comedy',\n",
       "       'History', 'Biography', 'Fantasy', 'Romance', 'Action_Adv', 'Adv_Scifi',\n",
       "       'R', 'PG-13'],\n",
       "      dtype='object')"
      ]
     },
     "execution_count": 18,
     "metadata": {},
     "output_type": "execute_result"
    }
   ],
   "source": [
    "strd_base.columns"
   ]
  },
  {
   "cell_type": "markdown",
   "id": "1e8de0b2",
   "metadata": {},
   "source": [
    "### See Predictions by Row - Fun! "
   ]
  },
  {
   "cell_type": "code",
   "execution_count": 21,
   "id": "0c134cdf",
   "metadata": {},
   "outputs": [],
   "source": [
    "#manually shows comparison. Change out features to see how prediction changes. \n",
    "pred_df = df_comparison[['Title','Predicted', \n",
    "               'Actual',\n",
    "               'Budget_Adjust',\n",
    "               'Action_Adv',\n",
    "               'Adv_Scifi', 'PG-13', 'Duration']]\n",
    "pd.options.display.float_format = '{:,.2f}'.format"
   ]
  },
  {
   "cell_type": "code",
   "execution_count": 22,
   "id": "9fba3332",
   "metadata": {},
   "outputs": [
    {
     "data": {
      "text/html": [
       "<div>\n",
       "<style scoped>\n",
       "    .dataframe tbody tr th:only-of-type {\n",
       "        vertical-align: middle;\n",
       "    }\n",
       "\n",
       "    .dataframe tbody tr th {\n",
       "        vertical-align: top;\n",
       "    }\n",
       "\n",
       "    .dataframe thead th {\n",
       "        text-align: right;\n",
       "    }\n",
       "</style>\n",
       "<table border=\"1\" class=\"dataframe\">\n",
       "  <thead>\n",
       "    <tr style=\"text-align: right;\">\n",
       "      <th></th>\n",
       "      <th>Title</th>\n",
       "      <th>Predicted</th>\n",
       "      <th>Actual</th>\n",
       "      <th>Budget_Adjust</th>\n",
       "      <th>Action_Adv</th>\n",
       "      <th>Adv_Scifi</th>\n",
       "      <th>PG-13</th>\n",
       "      <th>Duration</th>\n",
       "    </tr>\n",
       "  </thead>\n",
       "  <tbody>\n",
       "    <tr>\n",
       "      <th>0</th>\n",
       "      <td>Die Hard with a Vengeance</td>\n",
       "      <td>164,505,015.16</td>\n",
       "      <td>177,819,617.50</td>\n",
       "      <td>160,021,653.50</td>\n",
       "      <td>1</td>\n",
       "      <td>1</td>\n",
       "      <td>0</td>\n",
       "      <td>128</td>\n",
       "    </tr>\n",
       "    <tr>\n",
       "      <th>1</th>\n",
       "      <td>The Expendables 3</td>\n",
       "      <td>137,987,061.88</td>\n",
       "      <td>45,005,999.90</td>\n",
       "      <td>91,568,667.20</td>\n",
       "      <td>1</td>\n",
       "      <td>1</td>\n",
       "      <td>1</td>\n",
       "      <td>126</td>\n",
       "    </tr>\n",
       "    <tr>\n",
       "      <th>2</th>\n",
       "      <td>Game Night</td>\n",
       "      <td>77,187,065.17</td>\n",
       "      <td>74,652,258.20</td>\n",
       "      <td>39,926,764.30</td>\n",
       "      <td>1</td>\n",
       "      <td>1</td>\n",
       "      <td>0</td>\n",
       "      <td>100</td>\n",
       "    </tr>\n",
       "    <tr>\n",
       "      <th>3</th>\n",
       "      <td>When a Stranger Calls</td>\n",
       "      <td>45,965,307.68</td>\n",
       "      <td>79,910,023.40</td>\n",
       "      <td>5,598,553.70</td>\n",
       "      <td>0</td>\n",
       "      <td>0</td>\n",
       "      <td>0</td>\n",
       "      <td>97</td>\n",
       "    </tr>\n",
       "    <tr>\n",
       "      <th>4</th>\n",
       "      <td>Cold Pursuit</td>\n",
       "      <td>104,232,851.31</td>\n",
       "      <td>34,065,078.60</td>\n",
       "      <td>63,593,799.50</td>\n",
       "      <td>1</td>\n",
       "      <td>0</td>\n",
       "      <td>0</td>\n",
       "      <td>119</td>\n",
       "    </tr>\n",
       "    <tr>\n",
       "      <th>...</th>\n",
       "      <td>...</td>\n",
       "      <td>...</td>\n",
       "      <td>...</td>\n",
       "      <td>...</td>\n",
       "      <td>...</td>\n",
       "      <td>...</td>\n",
       "      <td>...</td>\n",
       "      <td>...</td>\n",
       "    </tr>\n",
       "    <tr>\n",
       "      <th>211</th>\n",
       "      <td>Looper</td>\n",
       "      <td>92,641,867.75</td>\n",
       "      <td>78,472,413.50</td>\n",
       "      <td>35,406,413.10</td>\n",
       "      <td>1</td>\n",
       "      <td>1</td>\n",
       "      <td>0</td>\n",
       "      <td>119</td>\n",
       "    </tr>\n",
       "    <tr>\n",
       "      <th>212</th>\n",
       "      <td>Nancy Drew</td>\n",
       "      <td>58,292,526.28</td>\n",
       "      <td>33,469,059.30</td>\n",
       "      <td>26,137,492.60</td>\n",
       "      <td>0</td>\n",
       "      <td>0</td>\n",
       "      <td>0</td>\n",
       "      <td>99</td>\n",
       "    </tr>\n",
       "    <tr>\n",
       "      <th>213</th>\n",
       "      <td>Conspiracy Theory</td>\n",
       "      <td>151,278,429.54</td>\n",
       "      <td>128,276,016.20</td>\n",
       "      <td>126,621,495.30</td>\n",
       "      <td>1</td>\n",
       "      <td>0</td>\n",
       "      <td>0</td>\n",
       "      <td>135</td>\n",
       "    </tr>\n",
       "    <tr>\n",
       "      <th>214</th>\n",
       "      <td>Red Dawn</td>\n",
       "      <td>99,960,577.86</td>\n",
       "      <td>100,094,596.70</td>\n",
       "      <td>44,335,803.70</td>\n",
       "      <td>1</td>\n",
       "      <td>0</td>\n",
       "      <td>1</td>\n",
       "      <td>114</td>\n",
       "    </tr>\n",
       "    <tr>\n",
       "      <th>215</th>\n",
       "      <td>Commando</td>\n",
       "      <td>60,334,284.92</td>\n",
       "      <td>88,392,630.10</td>\n",
       "      <td>25,183,085.50</td>\n",
       "      <td>1</td>\n",
       "      <td>1</td>\n",
       "      <td>0</td>\n",
       "      <td>90</td>\n",
       "    </tr>\n",
       "  </tbody>\n",
       "</table>\n",
       "<p>216 rows × 8 columns</p>\n",
       "</div>"
      ],
      "text/plain": [
       "                         Title      Predicted         Actual  Budget_Adjust  \\\n",
       "0    Die Hard with a Vengeance 164,505,015.16 177,819,617.50 160,021,653.50   \n",
       "1            The Expendables 3 137,987,061.88  45,005,999.90  91,568,667.20   \n",
       "2                   Game Night  77,187,065.17  74,652,258.20  39,926,764.30   \n",
       "3        When a Stranger Calls  45,965,307.68  79,910,023.40   5,598,553.70   \n",
       "4                 Cold Pursuit 104,232,851.31  34,065,078.60  63,593,799.50   \n",
       "..                         ...            ...            ...            ...   \n",
       "211                     Looper  92,641,867.75  78,472,413.50  35,406,413.10   \n",
       "212                 Nancy Drew  58,292,526.28  33,469,059.30  26,137,492.60   \n",
       "213          Conspiracy Theory 151,278,429.54 128,276,016.20 126,621,495.30   \n",
       "214                   Red Dawn  99,960,577.86 100,094,596.70  44,335,803.70   \n",
       "215                   Commando  60,334,284.92  88,392,630.10  25,183,085.50   \n",
       "\n",
       "     Action_Adv  Adv_Scifi  PG-13  Duration  \n",
       "0             1          1      0       128  \n",
       "1             1          1      1       126  \n",
       "2             1          1      0       100  \n",
       "3             0          0      0        97  \n",
       "4             1          0      0       119  \n",
       "..          ...        ...    ...       ...  \n",
       "211           1          1      0       119  \n",
       "212           0          0      0        99  \n",
       "213           1          0      0       135  \n",
       "214           1          0      1       114  \n",
       "215           1          1      0        90  \n",
       "\n",
       "[216 rows x 8 columns]"
      ]
     },
     "execution_count": 22,
     "metadata": {},
     "output_type": "execute_result"
    }
   ],
   "source": [
    "pred_df"
   ]
  },
  {
   "cell_type": "markdown",
   "id": "050a6d9c",
   "metadata": {},
   "source": [
    "### MAE + MAPE Scores"
   ]
  },
  {
   "cell_type": "markdown",
   "id": "cd889566",
   "metadata": {},
   "source": [
    "#### MAE (Mean Absolute Error) SCORE\n",
    "- This tells us that the average difference between the actual data value and the value predicted by the model is {mae value}\n",
    "\n",
    "- The lower the MAE for a given model, the more closely the model is able to predict the actual values."
   ]
  },
  {
   "cell_type": "code",
   "execution_count": 23,
   "id": "63dd228d",
   "metadata": {},
   "outputs": [
    {
     "data": {
      "text/plain": [
       "52916385.34587512"
      ]
     },
     "execution_count": 23,
     "metadata": {},
     "output_type": "execute_result"
    }
   ],
   "source": [
    "actual = pred_df['Actual']\n",
    "pred = pred_df['Predicted']\n",
    "\n",
    "mae(actual, pred)\n"
   ]
  },
  {
   "cell_type": "markdown",
   "id": "2137ceef",
   "metadata": {},
   "source": [
    "#### MAPE SCORE"
   ]
  },
  {
   "cell_type": "code",
   "execution_count": 24,
   "id": "dd715f0e",
   "metadata": {},
   "outputs": [],
   "source": [
    "# y_true = pred_df['Actual']\n",
    "# y_pred = pred_df['Predicted']"
   ]
  },
  {
   "cell_type": "code",
   "execution_count": 25,
   "id": "46699a33",
   "metadata": {},
   "outputs": [],
   "source": [
    "# #y_true = correct target values.  y_pred = Estimated target values                                \n",
    "# print(mean_absolute_percentage_error(y_true, y_pred))"
   ]
  },
  {
   "cell_type": "markdown",
   "id": "74a7b6d6",
   "metadata": {},
   "source": [
    "#### mae Interpretation \n",
    "https://www.statology.org/mean-absolute-error-python/#:~:text=We%20can%20easily%20calculate%20the,()%20function%20from%20Scikit%2Dlearn.<br>\n",
    "\n",
    "https://towardsdatascience.com/what-are-rmse-and-mae-e405ce230383\n",
    "\n",
    "https://stackoverflow.com/questions/40323393/what-does-the-mae-actually-telling-me\n",
    "\n",
    "This tells us that the average difference between the actual data value and the value predicted by the model is {mae value}\n",
    "\n",
    "The lower the MAE for a given model, the more closely the model is able to predict the actual values."
   ]
  },
  {
   "cell_type": "markdown",
   "id": "56691e3d",
   "metadata": {},
   "source": [
    "#### MAPE Interpretation"
   ]
  },
  {
   "cell_type": "markdown",
   "id": "763928f3",
   "metadata": {},
   "source": [
    "https://datagy.io/mape-python\n",
    "The lower the value for MAPE, the better the machine learning model is at predicting values. Inversely, the higher the value for MAPE, the worse the model is at predicting values.\n",
    "\n",
    "For example, if we calculate a MAPE value of 20% for a given machine learning model, then the average difference between the predicted value and the actual value is 20%.\n",
    "\n",
    "https://blog.arkieva.com/two-sides-of-the-mape-coin/"
   ]
  },
  {
   "cell_type": "code",
   "execution_count": null,
   "id": "3167a672",
   "metadata": {},
   "outputs": [],
   "source": []
  }
 ],
 "metadata": {
  "kernelspec": {
   "display_name": "Python 3 (ipykernel)",
   "language": "python",
   "name": "python3"
  },
  "language_info": {
   "codemirror_mode": {
    "name": "ipython",
    "version": 3
   },
   "file_extension": ".py",
   "mimetype": "text/x-python",
   "name": "python",
   "nbconvert_exporter": "python",
   "pygments_lexer": "ipython3",
   "version": "3.9.7"
  }
 },
 "nbformat": 4,
 "nbformat_minor": 5
}
