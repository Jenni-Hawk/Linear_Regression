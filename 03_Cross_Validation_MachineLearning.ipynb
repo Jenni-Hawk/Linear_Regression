{
 "cells": [
  {
   "cell_type": "markdown",
   "id": "32323c51",
   "metadata": {},
   "source": [
    "#### Cross Validation + Machine Learning\n",
    "- Initialize Linear Regression Model\n",
    "- Cross Validation\n",
    "- Fit model on training set\n",
    "- R2 scores for train / test sets\n",
    "- Plot Residuals vs Predictions\n",
    "- Coefficient Analyis on test data of Linear Regression Model\n",
    "- Manually see predictions for each film\n",
    "- MAE Score"
   ]
  },
  {
   "cell_type": "code",
   "execution_count": 12,
   "id": "714e7933",
   "metadata": {},
   "outputs": [],
   "source": [
    "import numpy as np\n",
    "from sklearn.linear_model import LinearRegression\n",
    "from sklearn.linear_model import LassoCV, RidgeCV\n",
    "from sklearn.model_selection import train_test_split\n",
    "from sklearn.model_selection import KFold\n",
    "\n",
    "from sklearn.model_selection import cross_val_score\n",
    "from sklearn.metrics import accuracy_score, confusion_matrix\n",
    "from sklearn.metrics import mean_absolute_error as mae\n",
    "from sklearn.metrics import mean_squared_error\n",
    "from sklearn.metrics import mean_absolute_percentage_error\n",
    "from sklearn.metrics import r2_score\n",
    "\n",
    "from sklearn.preprocessing import StandardScaler\n",
    "\n",
    "import seaborn as sns\n",
    "import pandas as pd\n",
    "import matplotlib.pyplot as plt\n",
    "\n",
    "%matplotlib inline"
   ]
  },
  {
   "cell_type": "code",
   "execution_count": 13,
   "id": "7bd10b82",
   "metadata": {},
   "outputs": [
    {
     "data": {
      "text/html": [
       "<div>\n",
       "<style scoped>\n",
       "    .dataframe tbody tr th:only-of-type {\n",
       "        vertical-align: middle;\n",
       "    }\n",
       "\n",
       "    .dataframe tbody tr th {\n",
       "        vertical-align: top;\n",
       "    }\n",
       "\n",
       "    .dataframe thead th {\n",
       "        text-align: right;\n",
       "    }\n",
       "</style>\n",
       "<table border=\"1\" class=\"dataframe\">\n",
       "  <thead>\n",
       "    <tr style=\"text-align: right;\">\n",
       "      <th></th>\n",
       "      <th>Title</th>\n",
       "      <th>Duration</th>\n",
       "      <th>Genre</th>\n",
       "      <th>Rating</th>\n",
       "      <th>Gross</th>\n",
       "      <th>Director</th>\n",
       "      <th>Lead</th>\n",
       "      <th>Year</th>\n",
       "      <th>Budget_Update</th>\n",
       "      <th>Budget_Adjust</th>\n",
       "      <th>...</th>\n",
       "      <th>Mystery</th>\n",
       "      <th>Romance</th>\n",
       "      <th>Sci-Fi</th>\n",
       "      <th>Sport</th>\n",
       "      <th>Thriller</th>\n",
       "      <th>War</th>\n",
       "      <th>Western</th>\n",
       "      <th>PG</th>\n",
       "      <th>PG-13</th>\n",
       "      <th>R</th>\n",
       "    </tr>\n",
       "  </thead>\n",
       "  <tbody>\n",
       "    <tr>\n",
       "      <th>0</th>\n",
       "      <td>The Dark Knight</td>\n",
       "      <td>152</td>\n",
       "      <td>['Action', 'Crime', 'Drama']</td>\n",
       "      <td>PG-13</td>\n",
       "      <td>534860000.0</td>\n",
       "      <td>Christopher Nolan</td>\n",
       "      <td>Christian Bale</td>\n",
       "      <td>2008</td>\n",
       "      <td>185000000.0</td>\n",
       "      <td>232832101.7</td>\n",
       "      <td>...</td>\n",
       "      <td>0</td>\n",
       "      <td>0</td>\n",
       "      <td>0</td>\n",
       "      <td>0</td>\n",
       "      <td>0</td>\n",
       "      <td>0</td>\n",
       "      <td>0</td>\n",
       "      <td>0</td>\n",
       "      <td>1</td>\n",
       "      <td>0</td>\n",
       "    </tr>\n",
       "    <tr>\n",
       "      <th>1</th>\n",
       "      <td>The Hunger Games: Catching Fire</td>\n",
       "      <td>146</td>\n",
       "      <td>['Action', 'Adventure', 'Drama']</td>\n",
       "      <td>PG-13</td>\n",
       "      <td>424670000.0</td>\n",
       "      <td>Francis Lawrence</td>\n",
       "      <td>Jennifer Lawrence</td>\n",
       "      <td>2013</td>\n",
       "      <td>130000000.0</td>\n",
       "      <td>151212884.8</td>\n",
       "      <td>...</td>\n",
       "      <td>0</td>\n",
       "      <td>0</td>\n",
       "      <td>0</td>\n",
       "      <td>0</td>\n",
       "      <td>0</td>\n",
       "      <td>0</td>\n",
       "      <td>0</td>\n",
       "      <td>0</td>\n",
       "      <td>1</td>\n",
       "      <td>0</td>\n",
       "    </tr>\n",
       "  </tbody>\n",
       "</table>\n",
       "<p>2 rows × 34 columns</p>\n",
       "</div>"
      ],
      "text/plain": [
       "                             Title  Duration  \\\n",
       "0                  The Dark Knight       152   \n",
       "1  The Hunger Games: Catching Fire       146   \n",
       "\n",
       "                              Genre Rating        Gross           Director  \\\n",
       "0      ['Action', 'Crime', 'Drama']  PG-13  534860000.0  Christopher Nolan   \n",
       "1  ['Action', 'Adventure', 'Drama']  PG-13  424670000.0   Francis Lawrence   \n",
       "\n",
       "                Lead  Year  Budget_Update  Budget_Adjust  ...  Mystery  \\\n",
       "0     Christian Bale  2008    185000000.0    232832101.7  ...        0   \n",
       "1  Jennifer Lawrence  2013    130000000.0    151212884.8  ...        0   \n",
       "\n",
       "   Romance  Sci-Fi  Sport  Thriller  War  Western  PG  PG-13  R  \n",
       "0        0       0      0         0    0        0   0      1  0  \n",
       "1        0       0      0         0    0        0   0      1  0  \n",
       "\n",
       "[2 rows x 34 columns]"
      ]
     },
     "execution_count": 13,
     "metadata": {},
     "output_type": "execute_result"
    }
   ],
   "source": [
    "# strd_base = pd.read_csv('/Users/jennihawk/Desktop/Thriller Project/Movie_Linear_Regression/thriller_csv_files/train_test_validate_csv/no_trans_base.csv')\n",
    "# strd_base.head(2)\n",
    "strd_base = pd.read_csv('/Users/jennihawk/Desktop/Thriller Project/Movie_Linear_Regression_Take2/movies_with_dummies.csv')\n",
    "strd_base.head(2)"
   ]
  },
  {
   "cell_type": "code",
   "execution_count": 14,
   "id": "a310add3",
   "metadata": {},
   "outputs": [
    {
     "data": {
      "text/plain": [
       "Index(['Title', 'Duration', 'Genre', 'Rating', 'Gross', 'Director', 'Lead',\n",
       "       'Year', 'Budget_Update', 'Budget_Adjust', 'Gross_Adjust', 'Action',\n",
       "       'Adventure', 'Animation', 'Biography', 'Comedy', 'Crime', 'Drama',\n",
       "       'Family', 'Fantasy', 'History', 'Horror', 'Music', 'Musical', 'Mystery',\n",
       "       'Romance', 'Sci-Fi', 'Sport', 'Thriller', 'War', 'Western', 'PG',\n",
       "       'PG-13', 'R'],\n",
       "      dtype='object')"
      ]
     },
     "execution_count": 14,
     "metadata": {},
     "output_type": "execute_result"
    }
   ],
   "source": [
    "strd_base.columns"
   ]
  },
  {
   "cell_type": "markdown",
   "id": "55d6c492",
   "metadata": {},
   "source": [
    "### Initialize LR Model, Train/Test Split, Cross Validation"
   ]
  },
  {
   "cell_type": "code",
   "execution_count": 15,
   "id": "8fc6df85",
   "metadata": {},
   "outputs": [],
   "source": [
    "features_in = ['Budget_Adjust', 'Action','Adventure', 'Animation', 'Biography', 'Comedy', 'Crime', 'Drama',\n",
    "'Family', 'Fantasy', 'History', 'Horror', 'Music', 'Musical', 'Mystery', 'Romance', 'Sci-Fi', 'Sport', \n",
    "'War', 'Western', 'PG','PG-13', 'R', 'Duration']\n",
    "\n",
    "Y = strd_base['Gross_Adjust']\n",
    "X = strd_base[features_in]\n",
    "\n",
    "X_train, X_test, y_train, y_test = train_test_split(X, Y, \n",
    "                                       test_size=.2,     \n",
    "                                       random_state=42)\n",
    "# print(X_train.shape)\n",
    "# print(X_test.shape)\n",
    "# print(y_train.shape)\n",
    "# print(y_test.shape)\n",
    "\n",
    "# Initialize Model\n",
    "model = LinearRegression()\n",
    "\n",
    "kf = KFold(n_splits=5, # number of folds\n",
    "     shuffle=True, # randomizes order of rows before split\n",
    "     random_state = 42) # using same number in future code/ rerunning allows us to replicate the split \n"
   ]
  },
  {
   "cell_type": "markdown",
   "id": "47740af9",
   "metadata": {},
   "source": [
    "### Cross Validation Scores\n",
    "Function parameters for cross_val_score<br>\n",
    "- estimator - The model object to use to fit the data\n",
    "- X - The data to fit the model on\n",
    "- Y - The target of the model\n",
    "- scoring - The error metric to use\n",
    "- cv - The number of splits to use"
   ]
  },
  {
   "cell_type": "markdown",
   "id": "7b37b501",
   "metadata": {},
   "source": [
    "###### A list of one score per split"
   ]
  },
  {
   "cell_type": "code",
   "execution_count": 16,
   "id": "76f7c37f",
   "metadata": {},
   "outputs": [
    {
     "name": "stdout",
     "output_type": "stream",
     "text": [
      "[-1.63327638 -0.07732386 -0.48675353 -1.30845023 -4.67227158]\n"
     ]
    }
   ],
   "source": [
    "print(cross_val_score(model, X, Y, cv=5))"
   ]
  },
  {
   "cell_type": "markdown",
   "id": "6bbc2cb4",
   "metadata": {},
   "source": [
    "###### Mean Score with a Standard Deviation of"
   ]
  },
  {
   "cell_type": "code",
   "execution_count": 17,
   "id": "1fd30399",
   "metadata": {},
   "outputs": [
    {
     "name": "stdout",
     "output_type": "stream",
     "text": [
      "Mean score of -81803407.40 with a standard deviation of 43461653.53\n"
     ]
    }
   ],
   "source": [
    "scores = cross_val_score(model, X, Y, cv=5, scoring='neg_root_mean_squared_error')\n",
    "print(\"Mean score of %0.2f with a standard deviation of %0.2f\" % (scores.mean(), scores.std()))"
   ]
  },
  {
   "cell_type": "markdown",
   "id": "f220a733",
   "metadata": {},
   "source": [
    "###### Accuracy Score\n",
    "The Accuracy of the model is the average of the accuracy of each fold."
   ]
  },
  {
   "cell_type": "code",
   "execution_count": 18,
   "id": "7687c280",
   "metadata": {},
   "outputs": [],
   "source": [
    "# ValueError: continuous is not supported\n",
    "# need to change a data type????\n",
    "\n",
    "# accuracy = cross_val_score(model, X, Y, scoring='accuracy', cv = 10)\n",
    "# print(accuracy)"
   ]
  },
  {
   "cell_type": "code",
   "execution_count": 19,
   "id": "2a0c24ed",
   "metadata": {},
   "outputs": [],
   "source": [
    "# getting nan cuz code above isn't working\n",
    "\n",
    "#get the mean of each fold \n",
    "#print(\"Accuracy of Model with Cross Validation is:\",accuracy.mean() * 100)"
   ]
  },
  {
   "cell_type": "markdown",
   "id": "a23b51c3",
   "metadata": {},
   "source": [
    "### Fit model on the training set\n",
    ".fit() method trains the algorithm on the training data, after the model is initialized."
   ]
  },
  {
   "cell_type": "code",
   "execution_count": 20,
   "id": "b015e6ed",
   "metadata": {},
   "outputs": [
    {
     "data": {
      "text/plain": [
       "LinearRegression()"
      ]
     },
     "execution_count": 20,
     "metadata": {},
     "output_type": "execute_result"
    }
   ],
   "source": [
    "#model = LinearRegression()\n",
    "model.fit(X_train,y_train)"
   ]
  },
  {
   "cell_type": "markdown",
   "id": "72b73b74",
   "metadata": {},
   "source": [
    "#### Training R^2 vs Test R^2"
   ]
  },
  {
   "cell_type": "markdown",
   "id": "538fbf39",
   "metadata": {},
   "source": [
    "#### Is model overfitting?\n",
    "- Train = Test (low) -- underfit\n",
    "- Train = Test (high) -- good fit\n",
    "- Train > Test -- overfit\n",
    "- Train < Test -- outliers\n",
    "\n",
    "#### Finding: Slight overfitting train is slightly greater than test. "
   ]
  },
  {
   "cell_type": "code",
   "execution_count": 21,
   "id": "e8eeeea8",
   "metadata": {},
   "outputs": [
    {
     "name": "stdout",
     "output_type": "stream",
     "text": [
      "Train R^2 0.31815682349174557\n",
      "Test  R^2 0.2761488720321399\n"
     ]
    }
   ],
   "source": [
    "#X_train, X_test, y_train, y_test\n",
    "\n",
    "r_squared_train = model.score(X_train, y_train)\n",
    "r_squared_test = model.score(X_test, y_test)\n",
    "\n",
    "print(f'Train R^2 {r_squared_train}')\n",
    "print(f'Test  R^2 {r_squared_test}')"
   ]
  },
  {
   "cell_type": "markdown",
   "id": "cc97903f",
   "metadata": {},
   "source": [
    "### Get Predictions"
   ]
  },
  {
   "cell_type": "code",
   "execution_count": 25,
   "id": "219c2557",
   "metadata": {},
   "outputs": [],
   "source": [
    "predictions = model.predict(X_test)\n",
    "#predictions"
   ]
  },
  {
   "cell_type": "markdown",
   "id": "bb7b6bfc",
   "metadata": {},
   "source": [
    "### Plot Residuals vs Predicted\n",
    "A residual is a measure of how far away a point is vertically from the regression line. It's the error between a predicted value and the observed actual value\n",
    "residuals (actual value - predicted value)"
   ]
  },
  {
   "cell_type": "code",
   "execution_count": 32,
   "id": "b47aa3d9",
   "metadata": {},
   "outputs": [
    {
     "ename": "ValueError",
     "evalue": "operands could not be broadcast together with shapes (868,) (217,) ",
     "output_type": "error",
     "traceback": [
      "\u001b[0;31m---------------------------------------------------------------------------\u001b[0m",
      "\u001b[0;31mValueError\u001b[0m                                Traceback (most recent call last)",
      "Input \u001b[0;32mIn [32]\u001b[0m, in \u001b[0;36m<cell line: 3>\u001b[0;34m()\u001b[0m\n\u001b[1;32m      1\u001b[0m \u001b[38;5;66;03m# Plot Residuals vs. predicted\u001b[39;00m\n\u001b[0;32m----> 3\u001b[0m lin_reg_residuals \u001b[38;5;241m=\u001b[39m \u001b[43my_train\u001b[49m\u001b[43m \u001b[49m\u001b[38;5;241;43m-\u001b[39;49m\u001b[43m \u001b[49m\u001b[43mpredictions\u001b[49m\n\u001b[1;32m      5\u001b[0m plt\u001b[38;5;241m.\u001b[39mscatter(y_train, lin_reg_residuals)\n\u001b[1;32m      6\u001b[0m plt\u001b[38;5;241m.\u001b[39mplot([\u001b[38;5;241m0\u001b[39m,\u001b[38;5;241m400\u001b[39m], [\u001b[38;5;241m0\u001b[39m, \u001b[38;5;241m0\u001b[39m])\n",
      "File \u001b[0;32m/opt/anaconda3/lib/python3.9/site-packages/pandas/core/ops/common.py:70\u001b[0m, in \u001b[0;36m_unpack_zerodim_and_defer.<locals>.new_method\u001b[0;34m(self, other)\u001b[0m\n\u001b[1;32m     66\u001b[0m             \u001b[38;5;28;01mreturn\u001b[39;00m \u001b[38;5;28mNotImplemented\u001b[39m\n\u001b[1;32m     68\u001b[0m other \u001b[38;5;241m=\u001b[39m item_from_zerodim(other)\n\u001b[0;32m---> 70\u001b[0m \u001b[38;5;28;01mreturn\u001b[39;00m \u001b[43mmethod\u001b[49m\u001b[43m(\u001b[49m\u001b[38;5;28;43mself\u001b[39;49m\u001b[43m,\u001b[49m\u001b[43m \u001b[49m\u001b[43mother\u001b[49m\u001b[43m)\u001b[49m\n",
      "File \u001b[0;32m/opt/anaconda3/lib/python3.9/site-packages/pandas/core/arraylike.py:108\u001b[0m, in \u001b[0;36mOpsMixin.__sub__\u001b[0;34m(self, other)\u001b[0m\n\u001b[1;32m    106\u001b[0m \u001b[38;5;129m@unpack_zerodim_and_defer\u001b[39m(\u001b[38;5;124m\"\u001b[39m\u001b[38;5;124m__sub__\u001b[39m\u001b[38;5;124m\"\u001b[39m)\n\u001b[1;32m    107\u001b[0m \u001b[38;5;28;01mdef\u001b[39;00m \u001b[38;5;21m__sub__\u001b[39m(\u001b[38;5;28mself\u001b[39m, other):\n\u001b[0;32m--> 108\u001b[0m     \u001b[38;5;28;01mreturn\u001b[39;00m \u001b[38;5;28;43mself\u001b[39;49m\u001b[38;5;241;43m.\u001b[39;49m\u001b[43m_arith_method\u001b[49m\u001b[43m(\u001b[49m\u001b[43mother\u001b[49m\u001b[43m,\u001b[49m\u001b[43m \u001b[49m\u001b[43moperator\u001b[49m\u001b[38;5;241;43m.\u001b[39;49m\u001b[43msub\u001b[49m\u001b[43m)\u001b[49m\n",
      "File \u001b[0;32m/opt/anaconda3/lib/python3.9/site-packages/pandas/core/series.py:5639\u001b[0m, in \u001b[0;36mSeries._arith_method\u001b[0;34m(self, other, op)\u001b[0m\n\u001b[1;32m   5637\u001b[0m \u001b[38;5;28;01mdef\u001b[39;00m \u001b[38;5;21m_arith_method\u001b[39m(\u001b[38;5;28mself\u001b[39m, other, op):\n\u001b[1;32m   5638\u001b[0m     \u001b[38;5;28mself\u001b[39m, other \u001b[38;5;241m=\u001b[39m ops\u001b[38;5;241m.\u001b[39malign_method_SERIES(\u001b[38;5;28mself\u001b[39m, other)\n\u001b[0;32m-> 5639\u001b[0m     \u001b[38;5;28;01mreturn\u001b[39;00m \u001b[43mbase\u001b[49m\u001b[38;5;241;43m.\u001b[39;49m\u001b[43mIndexOpsMixin\u001b[49m\u001b[38;5;241;43m.\u001b[39;49m\u001b[43m_arith_method\u001b[49m\u001b[43m(\u001b[49m\u001b[38;5;28;43mself\u001b[39;49m\u001b[43m,\u001b[49m\u001b[43m \u001b[49m\u001b[43mother\u001b[49m\u001b[43m,\u001b[49m\u001b[43m \u001b[49m\u001b[43mop\u001b[49m\u001b[43m)\u001b[49m\n",
      "File \u001b[0;32m/opt/anaconda3/lib/python3.9/site-packages/pandas/core/base.py:1295\u001b[0m, in \u001b[0;36mIndexOpsMixin._arith_method\u001b[0;34m(self, other, op)\u001b[0m\n\u001b[1;32m   1292\u001b[0m rvalues \u001b[38;5;241m=\u001b[39m ensure_wrapped_if_datetimelike(rvalues)\n\u001b[1;32m   1294\u001b[0m \u001b[38;5;28;01mwith\u001b[39;00m np\u001b[38;5;241m.\u001b[39merrstate(\u001b[38;5;28mall\u001b[39m\u001b[38;5;241m=\u001b[39m\u001b[38;5;124m\"\u001b[39m\u001b[38;5;124mignore\u001b[39m\u001b[38;5;124m\"\u001b[39m):\n\u001b[0;32m-> 1295\u001b[0m     result \u001b[38;5;241m=\u001b[39m \u001b[43mops\u001b[49m\u001b[38;5;241;43m.\u001b[39;49m\u001b[43marithmetic_op\u001b[49m\u001b[43m(\u001b[49m\u001b[43mlvalues\u001b[49m\u001b[43m,\u001b[49m\u001b[43m \u001b[49m\u001b[43mrvalues\u001b[49m\u001b[43m,\u001b[49m\u001b[43m \u001b[49m\u001b[43mop\u001b[49m\u001b[43m)\u001b[49m\n\u001b[1;32m   1297\u001b[0m \u001b[38;5;28;01mreturn\u001b[39;00m \u001b[38;5;28mself\u001b[39m\u001b[38;5;241m.\u001b[39m_construct_result(result, name\u001b[38;5;241m=\u001b[39mres_name)\n",
      "File \u001b[0;32m/opt/anaconda3/lib/python3.9/site-packages/pandas/core/ops/array_ops.py:222\u001b[0m, in \u001b[0;36marithmetic_op\u001b[0;34m(left, right, op)\u001b[0m\n\u001b[1;32m    217\u001b[0m \u001b[38;5;28;01melse\u001b[39;00m:\n\u001b[1;32m    218\u001b[0m     \u001b[38;5;66;03m# TODO we should handle EAs consistently and move this check before the if/else\u001b[39;00m\n\u001b[1;32m    219\u001b[0m     \u001b[38;5;66;03m# (https://github.com/pandas-dev/pandas/issues/41165)\u001b[39;00m\n\u001b[1;32m    220\u001b[0m     _bool_arith_check(op, left, right)\n\u001b[0;32m--> 222\u001b[0m     res_values \u001b[38;5;241m=\u001b[39m \u001b[43m_na_arithmetic_op\u001b[49m\u001b[43m(\u001b[49m\u001b[43mleft\u001b[49m\u001b[43m,\u001b[49m\u001b[43m \u001b[49m\u001b[43mright\u001b[49m\u001b[43m,\u001b[49m\u001b[43m \u001b[49m\u001b[43mop\u001b[49m\u001b[43m)\u001b[49m\n\u001b[1;32m    224\u001b[0m \u001b[38;5;28;01mreturn\u001b[39;00m res_values\n",
      "File \u001b[0;32m/opt/anaconda3/lib/python3.9/site-packages/pandas/core/ops/array_ops.py:163\u001b[0m, in \u001b[0;36m_na_arithmetic_op\u001b[0;34m(left, right, op, is_cmp)\u001b[0m\n\u001b[1;32m    160\u001b[0m     func \u001b[38;5;241m=\u001b[39m partial(expressions\u001b[38;5;241m.\u001b[39mevaluate, op)\n\u001b[1;32m    162\u001b[0m \u001b[38;5;28;01mtry\u001b[39;00m:\n\u001b[0;32m--> 163\u001b[0m     result \u001b[38;5;241m=\u001b[39m \u001b[43mfunc\u001b[49m\u001b[43m(\u001b[49m\u001b[43mleft\u001b[49m\u001b[43m,\u001b[49m\u001b[43m \u001b[49m\u001b[43mright\u001b[49m\u001b[43m)\u001b[49m\n\u001b[1;32m    164\u001b[0m \u001b[38;5;28;01mexcept\u001b[39;00m \u001b[38;5;167;01mTypeError\u001b[39;00m:\n\u001b[1;32m    165\u001b[0m     \u001b[38;5;28;01mif\u001b[39;00m \u001b[38;5;129;01mnot\u001b[39;00m is_cmp \u001b[38;5;129;01mand\u001b[39;00m (is_object_dtype(left\u001b[38;5;241m.\u001b[39mdtype) \u001b[38;5;129;01mor\u001b[39;00m is_object_dtype(right)):\n\u001b[1;32m    166\u001b[0m         \u001b[38;5;66;03m# For object dtype, fallback to a masked operation (only operating\u001b[39;00m\n\u001b[1;32m    167\u001b[0m         \u001b[38;5;66;03m#  on the non-missing values)\u001b[39;00m\n\u001b[1;32m    168\u001b[0m         \u001b[38;5;66;03m# Don't do this for comparisons, as that will handle complex numbers\u001b[39;00m\n\u001b[1;32m    169\u001b[0m         \u001b[38;5;66;03m#  incorrectly, see GH#32047\u001b[39;00m\n",
      "File \u001b[0;32m/opt/anaconda3/lib/python3.9/site-packages/pandas/core/computation/expressions.py:239\u001b[0m, in \u001b[0;36mevaluate\u001b[0;34m(op, a, b, use_numexpr)\u001b[0m\n\u001b[1;32m    236\u001b[0m \u001b[38;5;28;01mif\u001b[39;00m op_str \u001b[38;5;129;01mis\u001b[39;00m \u001b[38;5;129;01mnot\u001b[39;00m \u001b[38;5;28;01mNone\u001b[39;00m:\n\u001b[1;32m    237\u001b[0m     \u001b[38;5;28;01mif\u001b[39;00m use_numexpr:\n\u001b[1;32m    238\u001b[0m         \u001b[38;5;66;03m# error: \"None\" not callable\u001b[39;00m\n\u001b[0;32m--> 239\u001b[0m         \u001b[38;5;28;01mreturn\u001b[39;00m \u001b[43m_evaluate\u001b[49m\u001b[43m(\u001b[49m\u001b[43mop\u001b[49m\u001b[43m,\u001b[49m\u001b[43m \u001b[49m\u001b[43mop_str\u001b[49m\u001b[43m,\u001b[49m\u001b[43m \u001b[49m\u001b[43ma\u001b[49m\u001b[43m,\u001b[49m\u001b[43m \u001b[49m\u001b[43mb\u001b[49m\u001b[43m)\u001b[49m  \u001b[38;5;66;03m# type: ignore[misc]\u001b[39;00m\n\u001b[1;32m    240\u001b[0m \u001b[38;5;28;01mreturn\u001b[39;00m _evaluate_standard(op, op_str, a, b)\n",
      "File \u001b[0;32m/opt/anaconda3/lib/python3.9/site-packages/pandas/core/computation/expressions.py:128\u001b[0m, in \u001b[0;36m_evaluate_numexpr\u001b[0;34m(op, op_str, a, b)\u001b[0m\n\u001b[1;32m    125\u001b[0m     _store_test_result(result \u001b[38;5;129;01mis\u001b[39;00m \u001b[38;5;129;01mnot\u001b[39;00m \u001b[38;5;28;01mNone\u001b[39;00m)\n\u001b[1;32m    127\u001b[0m \u001b[38;5;28;01mif\u001b[39;00m result \u001b[38;5;129;01mis\u001b[39;00m \u001b[38;5;28;01mNone\u001b[39;00m:\n\u001b[0;32m--> 128\u001b[0m     result \u001b[38;5;241m=\u001b[39m \u001b[43m_evaluate_standard\u001b[49m\u001b[43m(\u001b[49m\u001b[43mop\u001b[49m\u001b[43m,\u001b[49m\u001b[43m \u001b[49m\u001b[43mop_str\u001b[49m\u001b[43m,\u001b[49m\u001b[43m \u001b[49m\u001b[43ma\u001b[49m\u001b[43m,\u001b[49m\u001b[43m \u001b[49m\u001b[43mb\u001b[49m\u001b[43m)\u001b[49m\n\u001b[1;32m    130\u001b[0m \u001b[38;5;28;01mreturn\u001b[39;00m result\n",
      "File \u001b[0;32m/opt/anaconda3/lib/python3.9/site-packages/pandas/core/computation/expressions.py:69\u001b[0m, in \u001b[0;36m_evaluate_standard\u001b[0;34m(op, op_str, a, b)\u001b[0m\n\u001b[1;32m     67\u001b[0m \u001b[38;5;28;01mif\u001b[39;00m _TEST_MODE:\n\u001b[1;32m     68\u001b[0m     _store_test_result(\u001b[38;5;28;01mFalse\u001b[39;00m)\n\u001b[0;32m---> 69\u001b[0m \u001b[38;5;28;01mreturn\u001b[39;00m \u001b[43mop\u001b[49m\u001b[43m(\u001b[49m\u001b[43ma\u001b[49m\u001b[43m,\u001b[49m\u001b[43m \u001b[49m\u001b[43mb\u001b[49m\u001b[43m)\u001b[49m\n",
      "\u001b[0;31mValueError\u001b[0m: operands could not be broadcast together with shapes (868,) (217,) "
     ]
    }
   ],
   "source": [
    "# Plot Residuals vs. predicted\n",
    "\n",
    "lin_reg_residuals = y_train - predictions\n",
    "\n",
    "plt.scatter(y_train, lin_reg_residuals)\n",
    "plt.plot([0,400], [0, 0])\n",
    "plt.title(\"Residuals vs. Predictions\")"
   ]
  },
  {
   "cell_type": "markdown",
   "id": "7b76d189",
   "metadata": {},
   "source": [
    "### Coefficient Analysis on Linear Regression Model\n",
    "- Model must be fitted for it to work\n",
    "- The coef_ contain the coefficients for the prediction of each of the targets. It is also the same as if you trained a model to predict each of the targets separately."
   ]
  },
  {
   "cell_type": "markdown",
   "id": "c20fc257",
   "metadata": {},
   "source": [
    "#### Coefficients on Test Set"
   ]
  },
  {
   "cell_type": "code",
   "execution_count": 23,
   "id": "e73722a5",
   "metadata": {},
   "outputs": [
    {
     "data": {
      "text/html": [
       "<div>\n",
       "<style scoped>\n",
       "    .dataframe tbody tr th:only-of-type {\n",
       "        vertical-align: middle;\n",
       "    }\n",
       "\n",
       "    .dataframe tbody tr th {\n",
       "        vertical-align: top;\n",
       "    }\n",
       "\n",
       "    .dataframe thead th {\n",
       "        text-align: right;\n",
       "    }\n",
       "</style>\n",
       "<table border=\"1\" class=\"dataframe\">\n",
       "  <thead>\n",
       "    <tr style=\"text-align: right;\">\n",
       "      <th></th>\n",
       "      <th>Coefficient</th>\n",
       "    </tr>\n",
       "  </thead>\n",
       "  <tbody>\n",
       "    <tr>\n",
       "      <th>Budget_Adjust</th>\n",
       "      <td>0.39</td>\n",
       "    </tr>\n",
       "    <tr>\n",
       "      <th>Action</th>\n",
       "      <td>-20658701.63</td>\n",
       "    </tr>\n",
       "    <tr>\n",
       "      <th>Adventure</th>\n",
       "      <td>19793585.00</td>\n",
       "    </tr>\n",
       "    <tr>\n",
       "      <th>Animation</th>\n",
       "      <td>-54468082.93</td>\n",
       "    </tr>\n",
       "    <tr>\n",
       "      <th>Biography</th>\n",
       "      <td>-57640257.49</td>\n",
       "    </tr>\n",
       "    <tr>\n",
       "      <th>Comedy</th>\n",
       "      <td>12575077.35</td>\n",
       "    </tr>\n",
       "    <tr>\n",
       "      <th>Crime</th>\n",
       "      <td>-10495540.63</td>\n",
       "    </tr>\n",
       "    <tr>\n",
       "      <th>Drama</th>\n",
       "      <td>-28094114.77</td>\n",
       "    </tr>\n",
       "    <tr>\n",
       "      <th>Family</th>\n",
       "      <td>0.00</td>\n",
       "    </tr>\n",
       "    <tr>\n",
       "      <th>Fantasy</th>\n",
       "      <td>-7649883.02</td>\n",
       "    </tr>\n",
       "    <tr>\n",
       "      <th>History</th>\n",
       "      <td>-76092866.62</td>\n",
       "    </tr>\n",
       "    <tr>\n",
       "      <th>Horror</th>\n",
       "      <td>-14634199.66</td>\n",
       "    </tr>\n",
       "    <tr>\n",
       "      <th>Music</th>\n",
       "      <td>-0.00</td>\n",
       "    </tr>\n",
       "    <tr>\n",
       "      <th>Musical</th>\n",
       "      <td>-67808047.35</td>\n",
       "    </tr>\n",
       "    <tr>\n",
       "      <th>Mystery</th>\n",
       "      <td>-12610294.09</td>\n",
       "    </tr>\n",
       "    <tr>\n",
       "      <th>Romance</th>\n",
       "      <td>-29425524.70</td>\n",
       "    </tr>\n",
       "    <tr>\n",
       "      <th>Sci-Fi</th>\n",
       "      <td>19450110.29</td>\n",
       "    </tr>\n",
       "    <tr>\n",
       "      <th>Sport</th>\n",
       "      <td>-0.00</td>\n",
       "    </tr>\n",
       "    <tr>\n",
       "      <th>War</th>\n",
       "      <td>0.00</td>\n",
       "    </tr>\n",
       "    <tr>\n",
       "      <th>Western</th>\n",
       "      <td>0.00</td>\n",
       "    </tr>\n",
       "    <tr>\n",
       "      <th>PG</th>\n",
       "      <td>68017516.47</td>\n",
       "    </tr>\n",
       "    <tr>\n",
       "      <th>PG-13</th>\n",
       "      <td>-27713940.97</td>\n",
       "    </tr>\n",
       "    <tr>\n",
       "      <th>R</th>\n",
       "      <td>-40303575.50</td>\n",
       "    </tr>\n",
       "    <tr>\n",
       "      <th>Duration</th>\n",
       "      <td>1647406.25</td>\n",
       "    </tr>\n",
       "  </tbody>\n",
       "</table>\n",
       "</div>"
      ],
      "text/plain": [
       "               Coefficient\n",
       "Budget_Adjust         0.39\n",
       "Action        -20658701.63\n",
       "Adventure      19793585.00\n",
       "Animation     -54468082.93\n",
       "Biography     -57640257.49\n",
       "Comedy         12575077.35\n",
       "Crime         -10495540.63\n",
       "Drama         -28094114.77\n",
       "Family                0.00\n",
       "Fantasy        -7649883.02\n",
       "History       -76092866.62\n",
       "Horror        -14634199.66\n",
       "Music                -0.00\n",
       "Musical       -67808047.35\n",
       "Mystery       -12610294.09\n",
       "Romance       -29425524.70\n",
       "Sci-Fi         19450110.29\n",
       "Sport                -0.00\n",
       "War                   0.00\n",
       "Western               0.00\n",
       "PG             68017516.47\n",
       "PG-13         -27713940.97\n",
       "R             -40303575.50\n",
       "Duration        1647406.25"
      ]
     },
     "execution_count": 23,
     "metadata": {},
     "output_type": "execute_result"
    }
   ],
   "source": [
    "test_fit = model.fit(X_test,y_test)\n",
    "coefficients_tst = pd.DataFrame(test_fit.coef_,X.columns, columns=['Coefficient'])\n",
    "coefficients_tst.round(2)\n"
   ]
  },
  {
   "cell_type": "markdown",
   "id": "275e4811",
   "metadata": {},
   "source": [
    "#### Intercept for test"
   ]
  },
  {
   "cell_type": "code",
   "execution_count": 24,
   "id": "5faa0c1e",
   "metadata": {},
   "outputs": [
    {
     "data": {
      "text/plain": [
       "-48475925.56400858"
      ]
     },
     "execution_count": 24,
     "metadata": {},
     "output_type": "execute_result"
    }
   ],
   "source": [
    "#notes from previous data point:\n",
    "#every movie starts out losing 4.7 million dollars. \n",
    "#Take budget and multiply by .5 and add it to -47MM\n",
    "# When at zero Duration add 934,000 per minute. \n",
    "#intercept is -47MM. If all things zero this is what you get\n",
    "# you can put formula into excel and calculate predciton. \n",
    "\n",
    "test_fit.intercept_"
   ]
  },
  {
   "cell_type": "markdown",
   "id": "7bd8a096",
   "metadata": {},
   "source": [
    "##### Manually See Predictions by Film"
   ]
  },
  {
   "cell_type": "code",
   "execution_count": 26,
   "id": "0744fbf8",
   "metadata": {},
   "outputs": [
    {
     "data": {
      "text/plain": [
       "Index(['Actual', 'Predicted', 'Title', 'Duration', 'Genre', 'Rating', 'Gross',\n",
       "       'Director', 'Lead', 'Year', 'Budget_Update', 'Budget_Adjust',\n",
       "       'Gross_Adjust', 'Action', 'Adventure', 'Animation', 'Biography',\n",
       "       'Comedy', 'Crime', 'Drama', 'Family', 'Fantasy', 'History', 'Horror',\n",
       "       'Music', 'Musical', 'Mystery', 'Romance', 'Sci-Fi', 'Sport', 'Thriller',\n",
       "       'War', 'Western', 'PG', 'PG-13', 'R'],\n",
       "      dtype='object')"
      ]
     },
     "execution_count": 26,
     "metadata": {},
     "output_type": "execute_result"
    }
   ],
   "source": [
    "#Visual Review\n",
    "df_results = pd.DataFrame({'Actual': y_test, 'Predicted': predictions})\n",
    "\n",
    "df_comparison = pd.merge(df_results, strd_base, how=\"inner\", left_on=\"Actual\", right_on='Gross_Adjust')\n",
    "df_comparison.columns"
   ]
  },
  {
   "cell_type": "code",
   "execution_count": 27,
   "id": "8500e13b",
   "metadata": {},
   "outputs": [
    {
     "data": {
      "text/plain": [
       "Index(['Title', 'Duration', 'Genre', 'Rating', 'Gross', 'Director', 'Lead',\n",
       "       'Year', 'Budget_Update', 'Budget_Adjust', 'Gross_Adjust', 'Action',\n",
       "       'Adventure', 'Animation', 'Biography', 'Comedy', 'Crime', 'Drama',\n",
       "       'Family', 'Fantasy', 'History', 'Horror', 'Music', 'Musical', 'Mystery',\n",
       "       'Romance', 'Sci-Fi', 'Sport', 'Thriller', 'War', 'Western', 'PG',\n",
       "       'PG-13', 'R'],\n",
       "      dtype='object')"
      ]
     },
     "execution_count": 27,
     "metadata": {},
     "output_type": "execute_result"
    }
   ],
   "source": [
    "strd_base.columns"
   ]
  },
  {
   "cell_type": "markdown",
   "id": "1e8de0b2",
   "metadata": {},
   "source": [
    "### See Predictions by Row - Fun! "
   ]
  },
  {
   "cell_type": "code",
   "execution_count": 28,
   "id": "0c134cdf",
   "metadata": {},
   "outputs": [],
   "source": [
    "#manually shows comparison. Change out features to see how prediction changes. \n",
    "pred_df = df_comparison[['Title','Predicted', 'Actual','Budget_Adjust', 'Action','Adventure', \n",
    "                         'Animation', 'Biography', 'Comedy', 'Crime', 'Drama','Family', 'Fantasy', \n",
    "                         'History', 'Horror', 'Music', 'Musical', 'Mystery', 'Romance', 'Sci-Fi', 'Sport', \n",
    "                         'War', 'Western', 'PG','PG-13', 'R', 'Duration']]\n",
    "pd.options.display.float_format = '{:,.2f}'.format"
   ]
  },
  {
   "cell_type": "code",
   "execution_count": 29,
   "id": "44bdbe50",
   "metadata": {},
   "outputs": [
    {
     "data": {
      "text/html": [
       "<div>\n",
       "<style scoped>\n",
       "    .dataframe tbody tr th:only-of-type {\n",
       "        vertical-align: middle;\n",
       "    }\n",
       "\n",
       "    .dataframe tbody tr th {\n",
       "        vertical-align: top;\n",
       "    }\n",
       "\n",
       "    .dataframe thead th {\n",
       "        text-align: right;\n",
       "    }\n",
       "</style>\n",
       "<table border=\"1\" class=\"dataframe\">\n",
       "  <thead>\n",
       "    <tr style=\"text-align: right;\">\n",
       "      <th></th>\n",
       "      <th>Title</th>\n",
       "      <th>Predicted</th>\n",
       "      <th>Actual</th>\n",
       "      <th>Budget_Adjust</th>\n",
       "      <th>Action</th>\n",
       "      <th>Adventure</th>\n",
       "      <th>Animation</th>\n",
       "      <th>Biography</th>\n",
       "      <th>Comedy</th>\n",
       "      <th>Crime</th>\n",
       "      <th>...</th>\n",
       "      <th>Mystery</th>\n",
       "      <th>Romance</th>\n",
       "      <th>Sci-Fi</th>\n",
       "      <th>Sport</th>\n",
       "      <th>War</th>\n",
       "      <th>Western</th>\n",
       "      <th>PG</th>\n",
       "      <th>PG-13</th>\n",
       "      <th>R</th>\n",
       "      <th>Duration</th>\n",
       "    </tr>\n",
       "  </thead>\n",
       "  <tbody>\n",
       "    <tr>\n",
       "      <th>0</th>\n",
       "      <td>Quarantine</td>\n",
       "      <td>68,594,099.14</td>\n",
       "      <td>39,883,509.80</td>\n",
       "      <td>15,102,622.80</td>\n",
       "      <td>0</td>\n",
       "      <td>0</td>\n",
       "      <td>0</td>\n",
       "      <td>0</td>\n",
       "      <td>0</td>\n",
       "      <td>0</td>\n",
       "      <td>...</td>\n",
       "      <td>0</td>\n",
       "      <td>0</td>\n",
       "      <td>1</td>\n",
       "      <td>0</td>\n",
       "      <td>0</td>\n",
       "      <td>0</td>\n",
       "      <td>0</td>\n",
       "      <td>0</td>\n",
       "      <td>1</td>\n",
       "      <td>89</td>\n",
       "    </tr>\n",
       "    <tr>\n",
       "      <th>1</th>\n",
       "      <td>Us</td>\n",
       "      <td>83,410,413.03</td>\n",
       "      <td>185,566,707.00</td>\n",
       "      <td>21,197,933.20</td>\n",
       "      <td>0</td>\n",
       "      <td>0</td>\n",
       "      <td>0</td>\n",
       "      <td>0</td>\n",
       "      <td>0</td>\n",
       "      <td>0</td>\n",
       "      <td>...</td>\n",
       "      <td>1</td>\n",
       "      <td>0</td>\n",
       "      <td>0</td>\n",
       "      <td>0</td>\n",
       "      <td>0</td>\n",
       "      <td>0</td>\n",
       "      <td>0</td>\n",
       "      <td>0</td>\n",
       "      <td>1</td>\n",
       "      <td>116</td>\n",
       "    </tr>\n",
       "    <tr>\n",
       "      <th>2</th>\n",
       "      <td>Nowhere to Run</td>\n",
       "      <td>-1,041,239.08</td>\n",
       "      <td>41,611,240.80</td>\n",
       "      <td>28,128,373.70</td>\n",
       "      <td>1</td>\n",
       "      <td>0</td>\n",
       "      <td>0</td>\n",
       "      <td>0</td>\n",
       "      <td>0</td>\n",
       "      <td>0</td>\n",
       "      <td>...</td>\n",
       "      <td>0</td>\n",
       "      <td>1</td>\n",
       "      <td>0</td>\n",
       "      <td>0</td>\n",
       "      <td>0</td>\n",
       "      <td>0</td>\n",
       "      <td>0</td>\n",
       "      <td>0</td>\n",
       "      <td>1</td>\n",
       "      <td>94</td>\n",
       "    </tr>\n",
       "    <tr>\n",
       "      <th>3</th>\n",
       "      <td>2 Guns</td>\n",
       "      <td>100,108,480.40</td>\n",
       "      <td>87,947,740.10</td>\n",
       "      <td>70,953,738.20</td>\n",
       "      <td>1</td>\n",
       "      <td>0</td>\n",
       "      <td>0</td>\n",
       "      <td>0</td>\n",
       "      <td>1</td>\n",
       "      <td>1</td>\n",
       "      <td>...</td>\n",
       "      <td>0</td>\n",
       "      <td>0</td>\n",
       "      <td>0</td>\n",
       "      <td>0</td>\n",
       "      <td>0</td>\n",
       "      <td>0</td>\n",
       "      <td>0</td>\n",
       "      <td>0</td>\n",
       "      <td>1</td>\n",
       "      <td>109</td>\n",
       "    </tr>\n",
       "    <tr>\n",
       "      <th>4</th>\n",
       "      <td>Space Cowboys</td>\n",
       "      <td>177,326,549.22</td>\n",
       "      <td>142,345,796.70</td>\n",
       "      <td>102,282,520.30</td>\n",
       "      <td>1</td>\n",
       "      <td>1</td>\n",
       "      <td>0</td>\n",
       "      <td>0</td>\n",
       "      <td>0</td>\n",
       "      <td>0</td>\n",
       "      <td>...</td>\n",
       "      <td>0</td>\n",
       "      <td>0</td>\n",
       "      <td>0</td>\n",
       "      <td>0</td>\n",
       "      <td>0</td>\n",
       "      <td>0</td>\n",
       "      <td>0</td>\n",
       "      <td>1</td>\n",
       "      <td>0</td>\n",
       "      <td>130</td>\n",
       "    </tr>\n",
       "    <tr>\n",
       "      <th>...</th>\n",
       "      <td>...</td>\n",
       "      <td>...</td>\n",
       "      <td>...</td>\n",
       "      <td>...</td>\n",
       "      <td>...</td>\n",
       "      <td>...</td>\n",
       "      <td>...</td>\n",
       "      <td>...</td>\n",
       "      <td>...</td>\n",
       "      <td>...</td>\n",
       "      <td>...</td>\n",
       "      <td>...</td>\n",
       "      <td>...</td>\n",
       "      <td>...</td>\n",
       "      <td>...</td>\n",
       "      <td>...</td>\n",
       "      <td>...</td>\n",
       "      <td>...</td>\n",
       "      <td>...</td>\n",
       "      <td>...</td>\n",
       "      <td>...</td>\n",
       "    </tr>\n",
       "    <tr>\n",
       "      <th>220</th>\n",
       "      <td>Absence of Malice</td>\n",
       "      <td>167,186,907.49</td>\n",
       "      <td>121,385,020.90</td>\n",
       "      <td>35,771,617.20</td>\n",
       "      <td>0</td>\n",
       "      <td>0</td>\n",
       "      <td>0</td>\n",
       "      <td>0</td>\n",
       "      <td>0</td>\n",
       "      <td>0</td>\n",
       "      <td>...</td>\n",
       "      <td>0</td>\n",
       "      <td>1</td>\n",
       "      <td>0</td>\n",
       "      <td>0</td>\n",
       "      <td>0</td>\n",
       "      <td>0</td>\n",
       "      <td>1</td>\n",
       "      <td>0</td>\n",
       "      <td>0</td>\n",
       "      <td>116</td>\n",
       "    </tr>\n",
       "    <tr>\n",
       "      <th>221</th>\n",
       "      <td>The Phantom of the Opera</td>\n",
       "      <td>73,544,901.50</td>\n",
       "      <td>73,544,901.50</td>\n",
       "      <td>100,412,387.50</td>\n",
       "      <td>0</td>\n",
       "      <td>0</td>\n",
       "      <td>0</td>\n",
       "      <td>0</td>\n",
       "      <td>0</td>\n",
       "      <td>0</td>\n",
       "      <td>...</td>\n",
       "      <td>0</td>\n",
       "      <td>1</td>\n",
       "      <td>0</td>\n",
       "      <td>0</td>\n",
       "      <td>0</td>\n",
       "      <td>0</td>\n",
       "      <td>0</td>\n",
       "      <td>1</td>\n",
       "      <td>0</td>\n",
       "      <td>143</td>\n",
       "    </tr>\n",
       "    <tr>\n",
       "      <th>222</th>\n",
       "      <td>The November Man</td>\n",
       "      <td>75,232,779.24</td>\n",
       "      <td>28,592,316.30</td>\n",
       "      <td>17,169,125.10</td>\n",
       "      <td>1</td>\n",
       "      <td>0</td>\n",
       "      <td>0</td>\n",
       "      <td>0</td>\n",
       "      <td>0</td>\n",
       "      <td>0</td>\n",
       "      <td>...</td>\n",
       "      <td>0</td>\n",
       "      <td>0</td>\n",
       "      <td>0</td>\n",
       "      <td>0</td>\n",
       "      <td>0</td>\n",
       "      <td>0</td>\n",
       "      <td>0</td>\n",
       "      <td>0</td>\n",
       "      <td>1</td>\n",
       "      <td>108</td>\n",
       "    </tr>\n",
       "    <tr>\n",
       "      <th>223</th>\n",
       "      <td>The Lazarus Effect</td>\n",
       "      <td>54,233,951.43</td>\n",
       "      <td>29,495,884.30</td>\n",
       "      <td>3,772,729.40</td>\n",
       "      <td>0</td>\n",
       "      <td>0</td>\n",
       "      <td>0</td>\n",
       "      <td>0</td>\n",
       "      <td>0</td>\n",
       "      <td>0</td>\n",
       "      <td>...</td>\n",
       "      <td>1</td>\n",
       "      <td>0</td>\n",
       "      <td>1</td>\n",
       "      <td>0</td>\n",
       "      <td>0</td>\n",
       "      <td>0</td>\n",
       "      <td>0</td>\n",
       "      <td>1</td>\n",
       "      <td>0</td>\n",
       "      <td>83</td>\n",
       "    </tr>\n",
       "    <tr>\n",
       "      <th>224</th>\n",
       "      <td>Outbreak</td>\n",
       "      <td>106,645,189.07</td>\n",
       "      <td>120,585,206.00</td>\n",
       "      <td>88,900,918.60</td>\n",
       "      <td>1</td>\n",
       "      <td>0</td>\n",
       "      <td>0</td>\n",
       "      <td>0</td>\n",
       "      <td>0</td>\n",
       "      <td>0</td>\n",
       "      <td>...</td>\n",
       "      <td>0</td>\n",
       "      <td>0</td>\n",
       "      <td>0</td>\n",
       "      <td>0</td>\n",
       "      <td>0</td>\n",
       "      <td>0</td>\n",
       "      <td>0</td>\n",
       "      <td>0</td>\n",
       "      <td>1</td>\n",
       "      <td>127</td>\n",
       "    </tr>\n",
       "  </tbody>\n",
       "</table>\n",
       "<p>225 rows × 27 columns</p>\n",
       "</div>"
      ],
      "text/plain": [
       "                        Title      Predicted         Actual  Budget_Adjust  \\\n",
       "0                  Quarantine  68,594,099.14  39,883,509.80  15,102,622.80   \n",
       "1                          Us  83,410,413.03 185,566,707.00  21,197,933.20   \n",
       "2              Nowhere to Run  -1,041,239.08  41,611,240.80  28,128,373.70   \n",
       "3                      2 Guns 100,108,480.40  87,947,740.10  70,953,738.20   \n",
       "4               Space Cowboys 177,326,549.22 142,345,796.70 102,282,520.30   \n",
       "..                        ...            ...            ...            ...   \n",
       "220         Absence of Malice 167,186,907.49 121,385,020.90  35,771,617.20   \n",
       "221  The Phantom of the Opera  73,544,901.50  73,544,901.50 100,412,387.50   \n",
       "222          The November Man  75,232,779.24  28,592,316.30  17,169,125.10   \n",
       "223        The Lazarus Effect  54,233,951.43  29,495,884.30   3,772,729.40   \n",
       "224                  Outbreak 106,645,189.07 120,585,206.00  88,900,918.60   \n",
       "\n",
       "     Action  Adventure  Animation  Biography  Comedy  Crime  ...  Mystery  \\\n",
       "0         0          0          0          0       0      0  ...        0   \n",
       "1         0          0          0          0       0      0  ...        1   \n",
       "2         1          0          0          0       0      0  ...        0   \n",
       "3         1          0          0          0       1      1  ...        0   \n",
       "4         1          1          0          0       0      0  ...        0   \n",
       "..      ...        ...        ...        ...     ...    ...  ...      ...   \n",
       "220       0          0          0          0       0      0  ...        0   \n",
       "221       0          0          0          0       0      0  ...        0   \n",
       "222       1          0          0          0       0      0  ...        0   \n",
       "223       0          0          0          0       0      0  ...        1   \n",
       "224       1          0          0          0       0      0  ...        0   \n",
       "\n",
       "     Romance  Sci-Fi  Sport  War  Western  PG  PG-13  R  Duration  \n",
       "0          0       1      0    0        0   0      0  1        89  \n",
       "1          0       0      0    0        0   0      0  1       116  \n",
       "2          1       0      0    0        0   0      0  1        94  \n",
       "3          0       0      0    0        0   0      0  1       109  \n",
       "4          0       0      0    0        0   0      1  0       130  \n",
       "..       ...     ...    ...  ...      ...  ..    ... ..       ...  \n",
       "220        1       0      0    0        0   1      0  0       116  \n",
       "221        1       0      0    0        0   0      1  0       143  \n",
       "222        0       0      0    0        0   0      0  1       108  \n",
       "223        0       1      0    0        0   0      1  0        83  \n",
       "224        0       0      0    0        0   0      0  1       127  \n",
       "\n",
       "[225 rows x 27 columns]"
      ]
     },
     "execution_count": 29,
     "metadata": {},
     "output_type": "execute_result"
    }
   ],
   "source": [
    "pred_df"
   ]
  },
  {
   "cell_type": "markdown",
   "id": "b5e5f3b5",
   "metadata": {},
   "source": [
    "#### MAE Score"
   ]
  },
  {
   "cell_type": "code",
   "execution_count": 30,
   "id": "3803beb4",
   "metadata": {},
   "outputs": [
    {
     "data": {
      "text/plain": [
       "46825271.29220527"
      ]
     },
     "execution_count": 30,
     "metadata": {},
     "output_type": "execute_result"
    }
   ],
   "source": [
    "actual = pred_df['Actual']\n",
    "pred = pred_df['Predicted']\n",
    "\n",
    "mae(actual, pred)"
   ]
  },
  {
   "cell_type": "code",
   "execution_count": null,
   "id": "7450a60c",
   "metadata": {},
   "outputs": [],
   "source": []
  }
 ],
 "metadata": {
  "kernelspec": {
   "display_name": "Python 3 (ipykernel)",
   "language": "python",
   "name": "python3"
  },
  "language_info": {
   "codemirror_mode": {
    "name": "ipython",
    "version": 3
   },
   "file_extension": ".py",
   "mimetype": "text/x-python",
   "name": "python",
   "nbconvert_exporter": "python",
   "pygments_lexer": "ipython3",
   "version": "3.9.7"
  }
 },
 "nbformat": 4,
 "nbformat_minor": 5
}
