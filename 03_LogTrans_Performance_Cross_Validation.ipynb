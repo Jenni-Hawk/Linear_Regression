{
 "cells": [
  {
   "cell_type": "markdown",
   "id": "f04a55bf",
   "metadata": {},
   "source": [
    "#### How does Log Transform Perform?\n",
    "Does it perform better than No Log transform? It does not. "
   ]
  },
  {
   "cell_type": "code",
   "execution_count": 19,
   "id": "b5c47d27",
   "metadata": {},
   "outputs": [],
   "source": [
    "import numpy as np\n",
    "from sklearn.linear_model import LinearRegression\n",
    "from sklearn.model_selection import train_test_split\n",
    "import seaborn as sns\n",
    "import pandas as pd\n",
    "import matplotlib.pyplot as plt\n",
    "from sklearn.model_selection import KFold\n",
    "from sklearn.model_selection import cross_val_score\n",
    "%matplotlib inline"
   ]
  },
  {
   "cell_type": "code",
   "execution_count": 29,
   "id": "0fb5c4cd",
   "metadata": {},
   "outputs": [
    {
     "data": {
      "text/html": [
       "<div>\n",
       "<style scoped>\n",
       "    .dataframe tbody tr th:only-of-type {\n",
       "        vertical-align: middle;\n",
       "    }\n",
       "\n",
       "    .dataframe tbody tr th {\n",
       "        vertical-align: top;\n",
       "    }\n",
       "\n",
       "    .dataframe thead th {\n",
       "        text-align: right;\n",
       "    }\n",
       "</style>\n",
       "<table border=\"1\" class=\"dataframe\">\n",
       "  <thead>\n",
       "    <tr style=\"text-align: right;\">\n",
       "      <th></th>\n",
       "      <th>Log_Budget_Adj</th>\n",
       "      <th>Log_Gross</th>\n",
       "      <th>Action_Adv</th>\n",
       "      <th>Adv_Scifi</th>\n",
       "      <th>PG-13</th>\n",
       "      <th>Duration</th>\n",
       "    </tr>\n",
       "  </thead>\n",
       "  <tbody>\n",
       "    <tr>\n",
       "      <th>0</th>\n",
       "      <td>19.265828</td>\n",
       "      <td>6.511968</td>\n",
       "      <td>1</td>\n",
       "      <td>0</td>\n",
       "      <td>1</td>\n",
       "      <td>152</td>\n",
       "    </tr>\n",
       "    <tr>\n",
       "      <th>1</th>\n",
       "      <td>18.834199</td>\n",
       "      <td>6.202475</td>\n",
       "      <td>1</td>\n",
       "      <td>1</td>\n",
       "      <td>1</td>\n",
       "      <td>146</td>\n",
       "    </tr>\n",
       "  </tbody>\n",
       "</table>\n",
       "</div>"
      ],
      "text/plain": [
       "   Log_Budget_Adj  Log_Gross  Action_Adv  Adv_Scifi  PG-13  Duration\n",
       "0       19.265828   6.511968           1          0      1       152\n",
       "1       18.834199   6.202475           1          1      1       146"
      ]
     },
     "execution_count": 29,
     "metadata": {},
     "output_type": "execute_result"
    }
   ],
   "source": [
    "log_baseline = pd.read_csv('/Users/jennihawk/Desktop/Thriller Project/Movie_Linear_Regression/thriller_csv_files/train_test_validate_csv/log_tst.csv')\n",
    "log_baseline.head(2)"
   ]
  },
  {
   "cell_type": "markdown",
   "id": "e9ca15dc",
   "metadata": {},
   "source": [
    "### Cross Validation Code: Train / Validate / Test\n",
    "- Here, we are using the KFold() function to have more control over the splits we’re making"
   ]
  },
  {
   "cell_type": "code",
   "execution_count": 30,
   "id": "902eb8f2",
   "metadata": {},
   "outputs": [
    {
     "name": "stdout",
     "output_type": "stream",
     "text": [
      "[0.22178214 0.19414793 0.12674901 0.16154923 0.21690279]\n",
      "0.18 +- 0.04\n",
      "R^2 of model with cross validation is: 0.18422622189556526\n"
     ]
    }
   ],
   "source": [
    "y_target = log_baseline['Log_Gross']\n",
    "x_features = log_baseline[['Log_Budget_Adj', 'Action_Adv', 'PG-13', 'Duration']]\n",
    "\n",
    "X_train, X_test, y_train, y_test = train_test_split(x_features, y_target, \n",
    "                                       test_size=.2,     \n",
    "                                       random_state=42)\n",
    "lm = LinearRegression() \n",
    "\n",
    "kf = KFold(n_splits=5, # number of folds\n",
    "     shuffle=True, # randomizes order of rows before split\n",
    "     random_state = 42) # using same number in future code/ rerunning allows us to replicate the split \n",
    "\n",
    "#to see all validation scores\n",
    "lm_cv = cross_val_score(lm, X_train, y_train, # estimator, features, target\n",
    "     cv= kf, # folds created above; could also just use a number \n",
    "     scoring='r2') # scoring metric\n",
    "print(lm_cv)\n",
    "\n",
    "# to print the mean score with standard deviation, rounded to 2 decimals\n",
    "print(np.round(np.mean(lm_cv), 2), \"+-\", np.round(np.std(lm_cv),2))\n",
    "print(\"R^2 of model with cross validation is:\",np.mean(lm_cv))"
   ]
  },
  {
   "cell_type": "markdown",
   "id": "331d9849",
   "metadata": {},
   "source": [
    "### Traditional Validation Code"
   ]
  },
  {
   "cell_type": "code",
   "execution_count": 2,
   "id": "e012a720",
   "metadata": {},
   "outputs": [],
   "source": [
    "# First: we partition into train and test at 80 / 20\n",
    "# .2 means 20% will be withheld for the test/val set \n",
    "# X, X_test, y, y_test = train_test_split(X, y, test_size = .2, random_state = 10)"
   ]
  },
  {
   "cell_type": "code",
   "execution_count": null,
   "id": "edf87591",
   "metadata": {},
   "outputs": [],
   "source": [
    "# Second: partition remaining into train/validation at 75/25 \n",
    "# resulting overall 60 train, 20 validation, 20 test split\n",
    "X_train, X_val, y_train, y_val = train_test_split(X, y, test_size = .25, random_state=3)"
   ]
  },
  {
   "cell_type": "markdown",
   "id": "a1db080d",
   "metadata": {},
   "source": [
    "Note: we've named the training data X_train so when time comes to train on the combined training and validation data so we can still use the original 80% partition in first step"
   ]
  },
  {
   "cell_type": "code",
   "execution_count": null,
   "id": "6e67a638",
   "metadata": {},
   "outputs": [],
   "source": []
  }
 ],
 "metadata": {
  "kernelspec": {
   "display_name": "Python 3 (ipykernel)",
   "language": "python",
   "name": "python3"
  },
  "language_info": {
   "codemirror_mode": {
    "name": "ipython",
    "version": 3
   },
   "file_extension": ".py",
   "mimetype": "text/x-python",
   "name": "python",
   "nbconvert_exporter": "python",
   "pygments_lexer": "ipython3",
   "version": "3.9.7"
  }
 },
 "nbformat": 4,
 "nbformat_minor": 5
}
